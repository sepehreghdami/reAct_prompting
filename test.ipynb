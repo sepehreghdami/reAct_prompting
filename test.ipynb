{
 "cells": [
  {
   "cell_type": "code",
   "execution_count": 12,
   "metadata": {},
   "outputs": [],
   "source": [
    "# %%capture --no-stderr\n",
    "# %pip install -U langgraph langchain-openai"
   ]
  },
  {
   "cell_type": "code",
   "execution_count": 1,
   "metadata": {},
   "outputs": [],
   "source": [
    "import dotenv\n",
    "import os"
   ]
  },
  {
   "cell_type": "code",
   "execution_count": 2,
   "metadata": {},
   "outputs": [],
   "source": [
    "import getpass\n",
    "import os\n",
    "\n",
    "\n",
    "def _set_env(var: str):\n",
    "    if not os.environ.get(var):\n",
    "        os.environ[var] = getpass.getpass(f\"{var}: \")\n",
    "\n",
    "\n",
    "_set_env(os.getenv(\"OPENAI_API_KEY\"))"
   ]
  },
  {
   "cell_type": "code",
   "execution_count": 3,
   "metadata": {},
   "outputs": [],
   "source": [
    "exa_api_key = os.getenv(\"EXA_API_KEY\")"
   ]
  },
  {
   "cell_type": "code",
   "execution_count": 4,
   "metadata": {},
   "outputs": [],
   "source": [
    "# First we initialize the model we want to use.\n",
    "from langchain_openai import ChatOpenAI\n",
    "\n",
    "model = ChatOpenAI(model=\"gpt-4o\", temperature=0)\n",
    "\n",
    "\n",
    "# For this tutorial we will use custom tool that returns pre-defined values for weather in two cities (NYC & SF)\n",
    "\n",
    "from typing import Literal\n",
    "\n",
    "from langchain_core.tools import tool"
   ]
  },
  {
   "cell_type": "code",
   "execution_count": 5,
   "metadata": {},
   "outputs": [],
   "source": [
    "from exa_py import Exa\n",
    "\n",
    "\n",
    "exa = Exa(api_key=os.environ[\"EXA_API_KEY\"])\n",
    "\n",
    "\n",
    "@tool\n",
    "def search_and_contents(query: str):\n",
    "    \"\"\"Search for webpages based on the query and retrieve their contents.\"\"\"\n",
    "    # This combines two API endpoints: search and contents retrieval\n",
    "    return exa.search_and_contents(\n",
    "        query, use_autoprompt=True, num_results=5, text=True, highlights=True\n",
    "    )"
   ]
  },
  {
   "cell_type": "code",
   "execution_count": 6,
   "metadata": {},
   "outputs": [],
   "source": [
    "tools = [search_and_contents]\n",
    "\n",
    "\n",
    "# Define the graph\n",
    "\n",
    "from langgraph.prebuilt import create_react_agent\n",
    "\n",
    "graph = create_react_agent(model, tools=tools, )\n"
   ]
  },
  {
   "cell_type": "code",
   "execution_count": 7,
   "metadata": {},
   "outputs": [
    {
     "data": {
      "image/png": "[encoded data removed]",
      "text/plain": [
       "<IPython.core.display.Image object>"
      ]
     },
     "metadata": {},
     "output_type": "display_data"
    }
   ],
   "source": [
    "from IPython.display import Image, display\n",
    "\n",
    "display(Image(graph.get_graph().draw_mermaid_png()))"
   ]
  },
  {
   "cell_type": "code",
   "execution_count": 8,
   "metadata": {},
   "outputs": [],
   "source": [
    "def print_stream(stream):\n",
    "    for s in stream:\n",
    "        message = s[\"messages\"][-1]\n",
    "        if isinstance(message, tuple):\n",
    "            print(message)\n",
    "        else:\n",
    "            message.pretty_print()"
   ]
  },
  {
   "cell_type": "markdown",
   "metadata": {},
   "source": [
    "**ReAct Prompting Result**"
   ]
  },
  {
   "cell_type": "code",
   "execution_count": 9,
   "metadata": {},
   "outputs": [
    {
     "name": "stdout",
     "output_type": "stream",
     "text": [
      "================================\u001b[1m Human Message \u001b[0m=================================\n",
      "\n",
      "whats the waether like in harlem newyork ?\n",
      "==================================\u001b[1m Ai Message \u001b[0m==================================\n",
      "Tool Calls:\n",
      "  search_and_contents (call_web6sf3JKnFQbH69Tr2zN77M)\n",
      " Call ID: call_web6sf3JKnFQbH69Tr2zN77M\n",
      "  Args:\n",
      "    query: current weather in Harlem, New York\n",
      "=================================\u001b[1m Tool Message \u001b[0m=================================\n",
      "Name: search_and_contents\n",
      "\n",
      "Title: New York City, NY Hourly Weather Forecast | Weather Underground\n",
      "URL: https://www.wunderground.com/hourly/us/ny/harlem/10027\n",
      "ID: https://www.wunderground.com/hourly/us/ny/harlem/10027\n",
      "Score: None\n",
      "Published Date: 2025-01-29T15:15:56.000Z\n",
      "Author: \n",
      "Image: None\n",
      "Favicon: None\n",
      "Extras: None\n",
      "Subpages: None\n",
      "Text: The time period when the sun is no more than 6 degrees below the horizon at either sunrise or sunset. The horizon should be clearly defined and the brightest stars should be visible under good atmospheric conditions (i.e. no moonlight, or other lights). One still should be able to carry on ordinary outdoor activities. The time period when the sun is between 6 and 12 degrees below the horizon at either sunrise or sunset. The horizon is well defined and the outline of objects might be visible without artificial light. Ordinary outdoor activities are not possible at this time without extra illumination. The time period when the sun is between 12 and 18 degrees below the horizon at either sunrise or sunset. The sun does not contribute to the illumination of the sky before this time in the morning, or after this time in the evening. In the beginning of morning astronomical twilight and at the end of astronomical twilight in the evening, sky illumination is very faint, and might be undetectable. The time of Civil Sunset minus the time of Civil Sunrise. The time of Actual Sunset minus the time of Actual Sunrise. The change in length of daylight between today and tomorrow is also listed when available.\n",
      "Highlights: ['The horizon is well defined and the outline of objects might be visible without artificial light. Ordinary outdoor activities are not possible at this time without extra illumination. The time period when the sun is between 12 and 18 degrees below the horizon at either sunrise or sunset. The sun does not contribute to the illumination of the sky before this time in the morning, or after this time in the evening. In the beginning of morning astronomical twilight and at the end of astronomical twilight in the evening, sky illumination is very faint, and might be undetectable.']\n",
      "Highlight Scores: [0.3128620386123657]\n",
      "Summary: None\n",
      "\n",
      "\n",
      "Title: Harlem, NY | Weather Forecasts Now, Live Radar Maps & News\n",
      "URL: https://www.weatherbug.com/weather-forecast/now/harlem-ny-10027\n",
      "ID: https://www.weatherbug.com/weather-forecast/now/harlem-ny-10027\n",
      "Score: None\n",
      "Published Date: 2025-01-30T02:55:00.000Z\n",
      "Author: \n",
      "Image: https://www.weatherbug.com/images/sharing/93642f9b-cfe3-45d9-87d4-44f98a4918a1.png\n",
      "Favicon: https://www.weatherbug.com/images/favicon-32x32.png?v=qslFNtVRrEWUm4bY4MzQoZB8hsn08ZJMOnaS9cAHCrU\n",
      "Extras: None\n",
      "Subpages: None\n",
      "Text: For more than 20 years Earth Networks has operated the world’s largest and most comprehensive weather observation, lightning detection, and climate networks.\n",
      " \n",
      " \n",
      "We are now leveraging our big data smarts to deliver on the promise of IoT. By integrating our hyper-local weather data with Smart Home connected devices we are delievering predictive energy efficiency insight to homeowners and Utility companies.\n",
      "Highlights: ['For more than 20 years Earth Networks has operated the world’s largest and most comprehensive weather observation, lightning detection, and climate networks. We are now leveraging our big data smarts to deliver on the promise of IoT. By integrating our hyper-local weather data with Smart Home connected devices we are delievering predictive energy efficiency insight to homeowners and Utility companies.']\n",
      "Highlight Scores: [0.2084907591342926]\n",
      "Summary: None\n",
      "\n",
      "\n",
      "Title: Weather Forecast and Conditions for Manhattan, NY | Weather.com\n",
      "URL: https://weather.com/weather/today/l/Manhattan+NY?canonicalCityId=fc47c333c5d13e34e34c9fdb6e047ceb70f7891e01bc9e1d574b5f93f58aa76d\n",
      "ID: https://weather.com/weather/today/l/Manhattan+NY?canonicalCityId=fc47c333c5d13e34e34c9fdb6e047ceb70f7891e01bc9e1d574b5f93f58aa76d\n",
      "Score: None\n",
      "Published Date: 2024-02-21T22:14:55.000Z\n",
      "Author: \n",
      "Image: None\n",
      "Favicon: None\n",
      "Extras: None\n",
      "Subpages: None\n",
      "Text: As of 8:32 am EST 35 ° Fair Day 44 ° • Night 27 ° Small Craft Advisory Today's Forecast for Manhattan, NY Morning 37 ° Chance of Rain 1% Afternoon 42 ° Chance of Rain 0% Evening 35 ° Chance of Rain 2% Overnight 30 ° Chance of Rain 1% Advertisement Weather Today in Manhattan, NY Feels Like 29 ° 7:18 am 4:51 pm High / Low 44 ° / 27 ° Wind 7 mph Humidity 53% Dew Point 20 ° Pressure 30.01 in UV Index 0 of 11 Visibility 10 mi Moon Phase Full Moon Don't Miss Wildfire Death Toll Surges, More Fierce Winds Incoming Frigid Temps Sweep Across Northern Tier Next Week Latest Forecast: Another Santa Ana Wind Event For California Before And After: See The Devastation Of California Fires Hourly Forecast Now 35 ° Chance of Rain 1% 9 am 35 ° Chance of Rain 1% 10 am 37 ° Chance of Rain 1% 11 am 38 ° Chance of Rain 1% 12 pm 40 ° Chance of Rain 1% Advertisement Advertisement Outside Sunburn Relief: Why Aloe Vera May Soothe But Doesn’t Cure Hiker Rescued After 10 Days Lost In California Mountains Bike Lanes Can Calm Busy Traffic How To Avoid A Shark Attack That's Not What Was Expected Dazzling Desert Display: Frost Blankets Sahara Sand Dunes The Weather Wonder That Made A Castle ‘Float’ On Clouds Rain Sends Millions Of Red Crabs Skittering To The Sea Where Did The Water Go? Mysterious Sinkhole Drains Reservoir Advertisement Daily Forecast Today 44 ° / 27 ° 27 ° Chance of Rain 2% Tue 14 32 ° / 24 ° 24 ° Chance of Rain 1% Wed 15 33 ° / 22 ° 22 ° Chance of Rain 1% Thu 16 32 ° / 24 ° 24 ° Chance of Rain 2% Fri 17 39 ° / 33 ° 33 ° Chance of Rain 4% Radar Now © 2025 Mapbox © OpenStreetMap | Improve this map We Love Our Critters Man, Dog Rescued From Boat In Heavy Surf Off Washington Skier Captures Moose On Saddleback Mountain’s Opening Day Baby Monkey Gets First Taste Of Snow At Iowa Zoo What Temperature Is Too Cold For Your Furry Friend? Wellness In Winter Got The Flu? Here’s When To See A Doctor 5 Places Where Respiratory Germs May Lurk Are You At Higher Risk Of Flu Complications? Can Chicken Soup Really Help When You’re Sick? Advertisement Advertisement Home, Garage &amp; Garden Prevent Your Car Doors From Freezing With This Trick Coat Your Shovel With Cooking Spray (And Other Winter Hacks) Your Socks Could Save Your Windshield Wipers Don’t Throw Your Poinsettia Away, Do This Instead Advertisement Advertisement\n",
      "Highlights: [\"As of 8:32 am EST 35 ° Fair Day 44 ° • Night 27 ° Small Craft Advisory Today's Forecast for Manhattan, NY Morning 37 ° Chance of Rain 1% Afternoon 42 ° Chance of Rain 0% Evening 35 ° Chance of Rain 2% Overnight 30 ° Chance of Rain 1% Advertisement Weather Today in Manhattan, NY Feels Like 29 ° 7:18 am 4:51 pm High / Low 44 ° / 27 ° Wind 7 mph Humidity 53% Dew Point 20 ° Pressure 30.01 in UV Index 0 of 11 Visibility 10 mi Moon Phase Full Moon Don't Miss Wildfire Death Toll Surges, More Fierce Winds Incoming Frigid Temps Sweep Across Northern Tier Next Week Latest Forecast: Another Santa Ana Wind Event For California Before And After: See The Devastation Of California Fires Hourly Forecast Now 35 ° Chance of Rain 1% 9 am 35 ° Chance of Rain 1% 10 am 37 ° Chance of Rain 1% 11 am 38 ° Chance of Rain 1% 12 pm 40 ° Chance of Rain 1% Advertisement Advertisement Outside Sunburn Relief: Why Aloe Vera May Soothe But Doesn’t Cure Hiker Rescued After 10 Days Lost In California Mountains Bike Lanes Can Calm Busy Traffic How To Avoid A Shark Attack That's Not What Was Expected Dazzling Desert Display: Frost Blankets Sahara Sand Dunes The Weather Wonder That Made A Castle ‘Float’ On Clouds Rain Sends Millions Of Red Crabs Skittering To The Sea Where Did The Water Go? Mysterious Sinkhole Drains Reservoir Advertisement Daily Forecast Today 44 ° / 27 ° 27 ° Chance of Rain 2% Tue 14 32 ° / 24 ° 24 ° Chance of Rain 1% Wed 15 33 ° / 22 ° 22 ° Chance of Rain 1% Thu 16 32 ° / 24 ° 24 ° Chance of Rain 2% Fri 17 39 ° / 33 ° 33 ° Chance of Rain 4% Radar Now © 2025 Mapbox © OpenStreetMap | Improve this map We Love Our Critters Man, Dog Rescued From Boat In Heavy Surf Off Washington Skier Captures Moose On Saddleback Mountain’s Opening Day Baby Monkey Gets First Taste Of Snow At Iowa Zoo What Temperature Is Too Cold For Your Furry Friend? Wellness In Winter Got The Flu? Here’s When To See A Doctor 5 Places Where Respiratory Germs May Lurk Are You At Higher Risk Of Flu Complications? Can Chicken Soup Really Help When You’re Sick?\"]\n",
      "Highlight Scores: [0.05985993891954422]\n",
      "Summary: None\n",
      "\n",
      "\n",
      "Title: Harlem, NY Weather 14 days - Meteored\n",
      "URL: https://www.theweather.com/harlem-l429266.htm\n",
      "ID: https://www.theweather.com/harlem-l429266.htm\n",
      "Score: None\n",
      "Published Date: 2025-01-30T12:55:58.000Z\n",
      "Author: \n",
      "Image: None\n",
      "Favicon: https://www.theweather.com/favicon.png\n",
      "Extras: None\n",
      "Subpages: None\n",
      "Text: 3 AM 22° Scattered clouds Feels Like 13° Northwest 9 - 22 mph 0 Low SPF: no Rain 0% 0 in Humidity 48% Dew Point 6 °F Clouds 14% Feels Like 13 °F Visibility 25 mi Wind - Average 9 mph Pressure 1018 hPa Fog No Wind - Gusts 22 mph Snowline 0 ft 4 AM 22° Clear Feels Like 13° Northwest 8 - 24 mph 0 Low SPF: no Rain 0% 0 in Humidity 49% Dew Point 5 °F Clouds 7% Feels Like 13 °F Visibility 25 mi Wind - Average 8 mph Pressure 1019 hPa Fog No Wind - Gusts 24 mph Snowline 0 ft 5 AM 21° Clear Feels Like 13° Northwest 7 - 19 mph 0 Low SPF: no Rain 0% 0 in Humidity 49% Dew Point 5 °F Clouds 8% Feels Like 13 °F Visibility 25 mi Wind - Average 7 mph Pressure 1020 hPa Fog No Wind - Gusts 19 mph Snowline 0 ft 6 AM 21° Clear Feels Like 14° West 6 - 17 mph 0 Low SPF: no Rain 0% 0 in Humidity 50% Dew Point 5 °F Clouds 3% Feels Like 14 °F Visibility 25 mi Wind - Average 6 mph Pressure 1021 hPa Fog No Wind - Gusts 17 mph Snowline 0 ft 7 AM 20° Sunny Feels Like 14° West 5 - 19 mph 0 Low SPF: no Rain 0% 0 in Humidity 51% Dew Point 5 °F Clouds 7% Feels Like 14 °F Visibility 25 mi Wind - Average 5 mph Pressure 1023 hPa Fog No Wind - Gusts 19 mph Snowline 0 ft 8 AM 21° Sunny Feels Like 15° West 5 - 12 mph 0 Low SPF: no 8 AM 21° Sunny Feels Like 15° West 5 - 12 mph 0 Low SPF: no Rain 0% 0 in Humidity 49% Dew Point 5 °F Clouds 5% Feels Like 15 °F Visibility 25 mi Wind - Average 5 mph Pressure 1024 hPa Fog No Wind - Gusts 12 mph Snowline 0 ft 9 AM 23° Sunny Feels Like 16° West 7 - 16 mph 1 Low SPF: no Rain 0% 0 in Humidity 43% Dew Point 4 °F Clouds 4% Feels Like 16 °F Visibility 25 mi Wind - Average 7 mph Pressure 1025 hPa Fog No Wind - Gusts 16 mph Snowline 0 ft 10 AM 25° Sunny Feels Like 18° West 7 - 19 mph 1 Low SPF: no Rain 0% 0 in Humidity 38% Dew Point 3 °F Clouds 0% Feels Like 18 °F Visibility 28 mi Wind - Average 7 mph Pressure 1025 hPa Fog No Wind - Gusts 19 mph Snowline 0 ft 11 AM 28° Sunny Feels Like 21° West 7 - 19 mph 2 Low SPF: no 11 AM 28° Sunny Feels Like 21° West 7 - 19 mph 2 Low SPF: no Rain 0% 0 in Humidity 35% Dew Point 3 °F Clouds 0% Feels Like 21 °F Visibility 28 mi Wind - Average 7 mph Pressure 1025 hPa Fog No Wind - Gusts 19 mph Snowline 0 ft 12 PM 30° Sunny Feels Like 23° West 7 - 20 mph 2 Low SPF: no Rain 0% 0 in Humidity 32% Dew Point 4 °F Clouds 0% Feels Like 23 °F Visibility 28 mi Wind - Average 7 mph Pressure 1025 hPa Fog No Wind - Gusts 20 mph Snowline 0 ft 1 PM 32° Sunny Feels Like 26° West 7 - 21 mph 2 Low SPF: no Rain 0% 0 in Humidity 33% Dew Point 6 °F Clouds 8% Feels Like 26 °F Visibility 28 mi Wind - Average 7 mph Pressure 1025 hPa Fog No Wind - Gusts 21 mph Snowline 0 ft 2 PM 33° Sunny Feels Like 28° West 5 - 19 mph 1 Low SPF: no 2 PM 33° Sunny Feels Like 28° West 5 - 19 mph 1 Low SPF: no Rain 0% 0 in Humidity 36% Dew Point 9 °F Clouds 8% Feels Like 28 °F Visibility 28 mi Wind - Average 5 mph Pressure 1024 hPa Fog No Wind - Gusts 19 mph Snowline 0 ft 3 PM 33° Sunny Feels Like 31° West 3 - 15 mph 1 Low SPF: no Rain 0% 0 in Humidity 38% Dew Point 11 °F Clouds 8% Feels Like 31 °F Visibility 28 mi Wind - Average 3 mph Pressure 1023 hPa Fog No Wind - Gusts 15 mph Snowline 0 ft 4 PM 33° Sunny Feels Like 29° Southwest 6 - 19 mph 0 Low SPF: no Rain 0% 0 in Humidity 42% Dew Point 13 °F Clouds 4% Feels Like 29 °F Visibility 25 mi Wind - Average 6 mph Pressure 1024 hPa Fog No Wind - Gusts 19 mph Snowline 328 ft 5 PM 31° Sunny Feels Like 28° South 3 - 13 mph 0 Low SPF: no 5 PM 31° Scattered clouds Feels Like 28° South 3 - 13 mph 0 Low SPF: no Rain 0% 0 in Humidity 55% Dew Point 17 °F Clouds 9% Feels Like 28 °F Visibility 25 mi Wind - Average 3 mph Pressure 1024 hPa Fog No Wind - Gusts 13 mph Snowline 328 ft 6 PM 30° Scattered clouds Feels Like 27° South 4 - 7 mph 0 Low SPF: no Rain 0% 0 in Humidity 58% Dew Point 17 °F Clouds 50% Feels Like 27 °F Visibility 25 mi Wind - Average 4 mph Pressure 1024 hPa Fog No Wind - Gusts 7 mph Snowline 656 ft 7 PM 31° Scattered clouds Feels Like 26° South 5 - 13 mph 0 Low SPF: no Rain 0% 0 in Humidity 56% Dew Point 17 °F Clouds 32% Feels Like 26 °F Visibility 25 mi Wind - Average 5 mph Pressure 1024 hPa Fog No Wind - Gusts 13 mph Snowline 656 ft 8 PM 31° Scattered clouds Feels Like 26° South 6 - 11 mph 0 Low SPF: no 8 PM 31° Scattered clouds Feels Like 26° South 6 - 11 mph 0 Low SPF: no Rain 0% 0 in Humidity 56% Dew Point 17 °F Clouds 50% Feels Like 26 °F Visibility 25 mi Wind - Average 6 mph Pressure 1024 hPa Fog No Wind - Gusts 11 mph Snowline 656 ft 9 PM 31° Scattered clouds Feels Like 27° South 6 - 11 mph 0 Low SPF: no Rain 0% 0 in Humidity 54% Dew Point 17 °F Clouds 50% Feels Like 27 °F Visibility 25 mi Wind - Average 6 mph Pressure 1023 hPa Fog No Wind - Gusts 11 mph Snowline 984 ft 10 PM 32° Scattered clouds Feels Like 26° South 6 - 12 mph 0 Low SPF: no Rain 0% 0 in Humidity 54% Dew Point 17 °F Clouds 50% Feels Like 26 °F Visibility 25 mi Wind - Average 6 mph Pressure 1023 hPa Fog No Wind - Gusts 12 mph Snowline 984 ft 11 PM 32° Scattered clouds Feels Like 27° South 7 - 14 mph 0 Low SPF: no 11 PM 32° Scattered clouds Feels Like 27° South 7 - 14 mph 0 Low SPF: no Rain 0% 0 in Humidity 56% Dew Point 19 °F Clouds 50% Feels Like 27 °F Visibility 25 mi Wind - Average 7 mph Pressure 1022 hPa Fog No Wind - Gusts 14 mph Snowline 1640 ft 12 AM 33° Scattered clouds Feels Like 27° South 7 - 16 mph 0 Low SPF: no Rain 0% 0 in Humidity 62% Dew Point 21 °F Clouds 50% Feels Like 27 °F Visibility 22 mi Wind - Average 7 mph Pressure 1021 hPa Fog No Wind - Gusts 16 mph Snowline 4265 ft\n",
      "Highlights: ['3 AM 22° Scattered clouds Feels Like 13° Northwest 9 - 22 mph 0 Low SPF: no Rain 0% 0 in Humidity 48% Dew Point 6 °F Clouds 14% Feels Like 13 °F Visibility 25 mi Wind - Average 9 mph Pressure 1018 hPa Fog No Wind - Gusts 22 mph Snowline 0 ft 4 AM 22° Clear Feels Like 13° Northwest 8 - 24 mph 0 Low SPF: no Rain 0% 0 in Humidity 49% Dew Point 5 °F Clouds 7% Feels Like 13 °F Visibility 25 mi Wind - Average 8 mph Pressure 1019 hPa Fog No Wind - Gusts 24 mph Snowline 0 ft 5 AM 21° Clear Feels Like 13° Northwest 7 - 19 mph 0 Low SPF: no Rain 0% 0 in Humidity 49% Dew Point 5 °F Clouds 8% Feels Like 13 °F Visibility 25 mi Wind - Average 7 mph Pressure 1020 hPa Fog No Wind - Gusts 19 mph Snowline 0 ft 6 AM 21° Clear Feels Like 14° West 6 - 17 mph 0 Low SPF: no Rain 0% 0 in Humidity 50% Dew Point 5 °F Clouds 3% Feels Like 14 °F Visibility 25 mi Wind - Average 6 mph Pressure 1021 hPa Fog No Wind - Gusts 17 mph Snowline 0 ft 7 AM 20° Sunny Feels Like 14° West 5 - 19 mph 0 Low SPF: no Rain 0% 0 in Humidity 51% Dew Point 5 °F Clouds 7% Feels Like 14 °F Visibility 25 mi Wind - Average 5 mph Pressure 1023 hPa Fog No Wind - Gusts 19 mph Snowline 0 ft 8 AM 21° Sunny Feels Like 15° West 5 - 12 mph 0 Low SPF: no 8 AM 21° Sunny Feels Like 15° West 5 - 12 mph 0 Low SPF: no Rain 0% 0 in Humidity 49% Dew Point 5 °F Clouds 5% Feels Like 15 °F Visibility 25 mi Wind - Average 5 mph Pressure 1024 hPa Fog No Wind - Gusts 12 mph Snowline 0 ft 9 AM 23° Sunny Feels Like 16° West 7 - 16 mph 1 Low SPF: no Rain 0% 0 in Humidity 43% Dew Point 4 °F Clouds 4% Feels Like 16 °F Visibility 25 mi Wind - Average 7 mph Pressure 1025 hPa Fog No Wind - Gusts 16 mph Snowline 0 ft 10 AM 25° Sunny Feels Like 18° West 7 - 19 mph 1 Low SPF: no Rain 0% 0 in Humidity 38% Dew Point 3 °F Clouds 0% Feels Like 18 °F Visibility 28 mi Wind - Average 7 mph Pressure 1025 hPa Fog No Wind - Gusts 19 mph Snowline 0 ft 11 AM 28° Sunny Feels Like 21° West 7 - 19 mph 2 Low SPF: no 11 AM 28° Sunny Feels Like 21° West 7 - 19 mph 2 Low SPF: no Rain 0% 0 in Humidity 35% Dew Point 3 °F Clouds 0% Feels Like 21 °F Visibility 28 mi Wind - Average 7 mph Pressure 1025 hPa Fog No Wind - Gusts 19 mph Snowline 0 ft 12 PM 30° Sunny Feels Like 23° West 7 - 20 mph 2 Low SPF: no Rain 0% 0 in Humidity 32% Dew Point 4 °F Clouds 0% Feels Like 23 °F Visibility 28 mi Wind - Average 7 mph Pressure 1025 hPa Fog No Wind - Gusts 20 mph Snowline 0 ft 1 PM 32° Sunny Feels Like 26° West 7 - 21 mph 2 Low SPF: no Rain 0% 0 in Humidity 33% Dew Point 6 °F Clouds 8% Feels Like 26 °F Visibility 28 mi Wind - Average 7 mph Pressure 1025 hPa Fog No Wind - Gusts 21 mph Snowline 0 ft 2 PM 33° Sunny Feels Like 28° West 5 - 19 mph 1 Low SPF: no 2 PM 33° Sunny Feels Like 28° West 5 - 19 mph 1 Low SPF: no Rain 0% 0 in Humidity 36% Dew Point 9 °F Clouds 8% Feels Like 28 °F Visibility 28 mi Wind - Average 5 mph Pressure 1024 hPa Fog No Wind - Gusts 19 mph Snowline 0 ft 3 PM 33° Sunny Feels Like 31° West 3 - 15 mph 1 Low SPF: no Rain 0% 0 in Humidity 38% Dew Point 11 °F Clouds 8% Feels Like 31 °F Visibility 28 mi Wind - Average 3 mph Pressure 1023 hPa Fog No Wind - Gusts 15 mph Snowline 0 ft 4 PM 33° Sunny Feels Like 29° Southwest 6 - 19 mph 0 Low SPF: no Rain 0% 0 in Humidity 42% Dew Point 13 °F Clouds 4% Feels Like 29 °F Visibility 25 mi Wind - Average 6 mph Pressure 1024 hPa Fog No Wind - Gusts 19 mph Snowline 328 ft 5 PM 31° Sunny Feels Like 28° South 3 - 13 mph 0 Low SPF: no 5 PM 31° Scattered clouds Feels Like 28° South 3 - 13 mph 0 Low SPF: no Rain 0% 0 in Humidity 55% Dew Point 17 °F Clouds 9% Feels Like 28 °F Visibility 25 mi Wind - Average 3 mph Pressure 1024 hPa Fog No Wind - Gusts 13 mph Snowline 328 ft 6 PM 30° Scattered clouds Feels Like 27° South 4 - 7 mph 0 Low SPF: no Rain 0% 0 in Humidity 58% Dew Point 17 °F Clouds 50% Feels Like 27 °F Visibility 25 mi Wind - Average 4 mph Pressure 1024 hPa Fog No Wind - Gusts 7 mph Snowline 656 ft 7 PM 31° Scattered clouds Feels Like 26° South 5 - 13 mph 0 Low SPF: no Rain 0% 0 in Humidity 56% Dew Point 17 °F Clouds 32% Feels Like 26 °F Visibility 25 mi Wind - Average 5 mph Pressure 1024 hPa Fog No Wind - Gusts 13 mph Snowline 656 ft 8 PM 31° Scattered clouds Feels Like 26° South 6 - 11 mph 0 Low SPF: no 8 PM 31° Scattered clouds Feels Like 26° South 6 - 11 mph 0 Low SPF: no Rain 0% 0 in Humidity 56% Dew Point 17 °F Clouds 50% Feels Like 26 °F Visibility 25 mi Wind - Average 6 mph Pressure 1024 hPa Fog No Wind - Gusts 11 mph Snowline 656 ft 9 PM 31° Scattered clouds Feels Like 27° South 6 - 11 mph 0 Low SPF: no Rain 0% 0 in Humidity 54% Dew Point 17 °F Clouds 50% Feels Like 27 °F Visibility 25 mi Wind - Average 6 mph Pressure 1023 hPa Fog No Wind - Gusts 11 mph Snowline 984 ft 10 PM 32° Scattered clouds Feels Like 26° South 6 - 12 mph 0 Low SPF: no Rain 0% 0 in Humidity 54% Dew Point 17 °F Clouds 50% Feels Like 26 °F Visibility 25 mi Wind - Average 6 mph Pressure 1023 hPa Fog No Wind - Gusts 12 mph Snowline 984 ft 11 PM 32° Scattered clouds Feels Like 27° South 7 - 14 mph 0 Low SPF: no 11 PM 32° Scattered clouds Feels Like 27° South 7 - 14 mph 0 Low SPF: no Rain 0% 0 in Humidity 56% Dew Point 19 °F Clouds 50% Feels Like 27 °F Visibility 25 mi Wind - Average 7 mph Pressure 1022 hPa Fog No Wind - Gusts 14 mph Snowline 1640 ft 12 AM 33° Scattered clouds Feels Like 27° South 7 - 16 mph 0 Low SPF: no Rain 0% 0 in Humidity 62% Dew Point 21 °F Clouds 50% Feels Like 27 °F Visibility 22 mi Wind - Average 7 mph Pressure 1021 hPa Fog No Wind - Gusts 16 mph Snowline 4265 ft']\n",
      "Highlight Scores: [0.05179298296570778]\n",
      "Summary: None\n",
      "\n",
      "\n",
      "Title: 7-Day Forecast 40.79N 73.94W - National Weather Service\n",
      "URL: https://forecast.weather.gov/MapClick.php?lat=40.79193109414575&lon=-73.94447651018197\n",
      "ID: https://forecast.weather.gov/MapClick.php?lat=40.79193109414575&lon=-73.94447651018197\n",
      "Score: None\n",
      "Published Date: 2025-01-30T07:55:58.000Z\n",
      "Author: US Department of Commerce, NOAA, National Weather Service\n",
      "Image: None\n",
      "Favicon: https://forecast.weather.gov/build/images/favicon.eab6deff.ico\n",
      "Extras: None\n",
      "Subpages: None\n",
      "Text: Overnight Mostly clear, with a low around 25. Wind chill values between 15 and 20. Northwest wind around 14 mph, with gusts as high as 34 mph. Thursday Sunny, with a high near 37. Wind chill values between 15 and 25. West wind 8 to 11 mph. Thursday Night A 30 percent chance of rain after 4am. Increasing clouds, with a low around 33. South wind 6 to 8 mph. Friday Rain. High near 45. Southwest wind around 8 mph. Chance of precipitation is 90%. New precipitation amounts between a quarter and half of an inch possible. Friday Night Rain, mainly before 9pm. Low around 33. Southwest wind 9 to 11 mph becoming northwest after midnight. Winds could gust as high as 22 mph. Chance of precipitation is 80%. New precipitation amounts of less than a tenth of an inch possible. Saturday Sunny, with a high near 39. Saturday Night Partly cloudy, with a low around 23. Sunday Mostly cloudy, with a high near 39. Sunday Night A chance of rain and snow before 1am. Mostly cloudy, with a low around 35. Chance of precipitation is 30%. Monday Mostly cloudy, with a high near 52. Monday Night Mostly cloudy, with a low around 32. Tuesday Mostly sunny, with a high near 41. Tuesday Night Partly cloudy, with a low around 28. Wednesday Partly sunny, with a high near 37.\n",
      "Highlights: ['New precipitation amounts of less than a tenth of an inch possible. Saturday Sunny, with a high near 39. Saturday Night Partly cloudy, with a low around 23. Sunday Mostly cloudy, with a high near 39. Sunday Night A chance of rain and snow before 1am.']\n",
      "Highlight Scores: [0.4758397340774536]\n",
      "Summary: None\n",
      "\n",
      "\n",
      "Autoprompt String: The current weather in Harlem, New York is \n",
      "Resolved Search Type: keyword\n",
      "==================================\u001b[1m Ai Message \u001b[0m==================================\n",
      "\n",
      "The current weather in Harlem, New York is sunny with a temperature around 33°F, feeling like 31°F due to wind chill. The wind is coming from the west at 3 to 15 mph. There is no chance of rain, and the humidity is around 38%. The visibility is good at 28 miles, and the atmospheric pressure is 1023 hPa.\n"
     ]
    }
   ],
   "source": [
    "inputs = {\"messages\": [(\"user\", \"whats the waether like in harlem newyork ?\")]}\n",
    "print_stream(graph.stream(inputs, stream_mode=\"values\"))"
   ]
  },
  {
   "cell_type": "markdown",
   "metadata": {},
   "source": [
    "**OpenAI Simple Request**"
   ]
  },
  {
   "cell_type": "code",
   "execution_count": 11,
   "metadata": {},
   "outputs": [
    {
     "name": "stdout",
     "output_type": "stream",
     "text": [
      "I'm sorry, but I can't provide real-time weather updates or forecasts. However, you can check the current weather in Harlem, New York, by using a weather website or app such as the Weather Channel, AccuWeather, or a search engine with location-based weather services.\n"
     ]
    }
   ],
   "source": [
    "import requests\n",
    "\n",
    "API_KEY = os.getenv(\"OPENAI_API_KEY\")\n",
    "URL = \"https://api.openai.com/v1/chat/completions\"\n",
    "\n",
    "headers = {\n",
    "    \"Authorization\": f\"Bearer {API_KEY}\",\n",
    "    \"Content-Type\": \"application/json\"\n",
    "}\n",
    "\n",
    "data = {\n",
    "    \"model\": \"gpt-4o\",\n",
    "    \"messages\": [\n",
    "        {\"role\": \"system\", \"content\": \"You are a helpful assistant.\"},\n",
    "        {\"role\": \"user\", \"content\": \"whats the waether like in harlem newyork ?\"}\n",
    "    ],\n",
    "    \"temperature\": 0.7\n",
    "}\n",
    "\n",
    "response = requests.post(URL, headers=headers, json=data)\n",
    "\n",
    "if response.status_code == 200:\n",
    "    print(response.json()[\"choices\"][0][\"message\"][\"content\"])\n",
    "else:\n",
    "    print(f\"Error {response.status_code}: {response.text}\")\n"
   ]
  }
 ],
 "metadata": {
  "kernelspec": {
   "display_name": "env-reAct",
   "language": "python",
   "name": "python3"
  },
  "language_info": {
   "codemirror_mode": {
    "name": "ipython",
    "version": 3
   },
   "file_extension": ".py",
   "mimetype": "text/x-python",
   "name": "python",
   "nbconvert_exporter": "python",
   "pygments_lexer": "ipython3",
   "version": "3.12.3"
  }
 },
 "nbformat": 4,
 "nbformat_minor": 2
}
